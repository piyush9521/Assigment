{
 "cells": [
  {
   "cell_type": "markdown",
   "metadata": {},
   "source": [
    "1. Discuss string slicing and provide examples.\n",
    "ANSWER: String slicing is a fundamental operation in Python that allows you to extract a portion of a string, creating a new string from the selected part. In essence, it’s a way to access specific characters or substrings within a larger string. This process is often referred to as “slicing” because you are essentially cutting a piece of the string to work with.\n",
    "\n",
    "In Python, strings are characters’ sequences, and each character has an index associated with it. These indices start from 0 for the first character and increase by 1 for each subsequent character. String slicing is performed by specifying the start and end indices within square brackets, separated by a colon, like this: `string[start:end]`. The result is a new string containing characters from the ‘start’ index up to (but not including) the ‘end’ index.\n"
   ]
  },
  {
   "cell_type": "code",
   "execution_count": 1,
   "metadata": {},
   "outputs": [
    {
     "name": "stdout",
     "output_type": "stream",
     "text": [
      "String slicing\n",
      "AST\n",
      "SR\n",
      "GITA\n"
     ]
    }
   ],
   "source": [
    "# Python program to demonstrate\n",
    "# string slicing\n",
    "\n",
    "# String slicing\n",
    "String = 'ASTRING'\n",
    "\n",
    "# Using slice constructor\n",
    "s1 = slice(3)\n",
    "s2 = slice(1, 5, 2)\n",
    "s3 = slice(-1, -12, -2)\n",
    "\n",
    "print(\"String slicing\")\n",
    "print(String[s1])\n",
    "print(String[s2])\n",
    "print(String[s3])\n"
   ]
  },
  {
   "cell_type": "markdown",
   "metadata": {},
   "source": [
    "2. Explain the key features of lists in python.\n",
    "ANSWER: In Python, the sequence of various data types is stored in a list. A list is a collection of different kinds of values or items. Since Python lists are mutable, we can change their elements after forming. The comma (,) and the square brackets [enclose the List's items] serve as separators.\n",
    "\n",
    "Although six Python data types can hold sequences, the List is the most common and reliable form. A list, a type of sequence data, is used to store the collection of data. Tuples and Strings are two similar data formats for sequences.\n",
    "1. Ordered\n",
    "Lists maintain the order of elements. The order in which you insert elements is the order in which they are stored and retrieved.\n",
    "Each element in a list has an index, starting from 0.\n",
    "2. Mutable\n",
    "Lists are mutable, meaning you can modify their contents after creation. You can change values, add new elements, or remove existing ones.\n"
   ]
  },
  {
   "cell_type": "code",
   "execution_count": 2,
   "metadata": {},
   "outputs": [
    {
     "name": "stdout",
     "output_type": "stream",
     "text": [
      "[1, 10, 3]\n"
     ]
    }
   ],
   "source": [
    "my_list = [1, 2, 3]\n",
    "my_list[1] = 10  # Modifies the second element to 10\n",
    "print(my_list)  # Output: [1, 10, 3]\n"
   ]
  },
  {
   "cell_type": "code",
   "execution_count": 3,
   "metadata": {},
   "outputs": [],
   "source": [
    "## Heterogeneous\n",
    "my_list = [1, \"apple\", 3.14, [2, 3]]\n"
   ]
  },
  {
   "cell_type": "code",
   "execution_count": 4,
   "metadata": {},
   "outputs": [
    {
     "name": "stdout",
     "output_type": "stream",
     "text": [
      "[1, 2, 3, 4]\n"
     ]
    }
   ],
   "source": [
    "##Dynamic Size\n",
    "my_list = [1, 2, 3]\n",
    "my_list.append(4)  # Adds 4 to the list\n",
    "print(my_list)  # Output: [1, 2, 3, 4]\n"
   ]
  },
  {
   "cell_type": "code",
   "execution_count": 5,
   "metadata": {},
   "outputs": [
    {
     "name": "stdout",
     "output_type": "stream",
     "text": [
      "2\n",
      "[2, 3]\n"
     ]
    }
   ],
   "source": [
    "##Indexing and Slicing\n",
    "my_list = [1, 2, 3, 4]\n",
    "print(my_list[1])    # Output: 2\n",
    "print(my_list[1:3])  # Output: [2, 3]\n"
   ]
  },
  {
   "cell_type": "code",
   "execution_count": 6,
   "metadata": {},
   "outputs": [
    {
     "name": "stdout",
     "output_type": "stream",
     "text": [
      "[1, 2, 3]\n"
     ]
    }
   ],
   "source": [
    "##Built-in Functions\n",
    "my_list = [3, 1, 2]\n",
    "my_list.sort()  # Sorts the list\n",
    "print(my_list)  # Output: [1, 2, 3]\n"
   ]
  },
  {
   "cell_type": "code",
   "execution_count": 7,
   "metadata": {},
   "outputs": [
    {
     "name": "stdout",
     "output_type": "stream",
     "text": [
      "[0, 1, 4, 9, 16]\n"
     ]
    }
   ],
   "source": [
    "##List Comprehensions\n",
    "squares = [x**2 for x in range(5)]\n",
    "print(squares)  # Output: [0, 1, 4, 9, 16]\n"
   ]
  },
  {
   "cell_type": "code",
   "execution_count": 8,
   "metadata": {},
   "outputs": [
    {
     "name": "stdout",
     "output_type": "stream",
     "text": [
      "6\n"
     ]
    }
   ],
   "source": [
    "##Nesting\n",
    "matrix = [[1, 2, 3], [4, 5, 6], [7, 8, 9]]\n",
    "print(matrix[1][2])  # Output: 6\n"
   ]
  },
  {
   "cell_type": "code",
   "execution_count": 9,
   "metadata": {},
   "outputs": [
    {
     "name": "stdout",
     "output_type": "stream",
     "text": [
      "1\n",
      "2\n",
      "3\n"
     ]
    }
   ],
   "source": [
    "##Iterable\n",
    "for item in [1, 2, 3]:\n",
    "    print(item)\n"
   ]
  },
  {
   "cell_type": "code",
   "execution_count": 10,
   "metadata": {},
   "outputs": [
    {
     "name": "stdout",
     "output_type": "stream",
     "text": [
      "4\n"
     ]
    }
   ],
   "source": [
    "##Supports Negative Indexing\n",
    "my_list = [1, 2, 3, 4]\n",
    "print(my_list[-1])  # Output: 4 (last element)\n"
   ]
  },
  {
   "cell_type": "markdown",
   "metadata": {},
   "source": [
    "3. Describe how to access ,modify,and delete elements in a list with examples.\n",
    "ANSWER:\n",
    "1. Accessing Elements in a List\n",
    "You can access elements in a list using indexing and slicing.\n",
    "\n",
    "Indexing: Access an element by its index (starting from 0 for the first element). You can also use negative indexing to access elements from the end of the list.\n",
    "Slicing: Extract a sublist by specifying a range of indices."
   ]
  },
  {
   "cell_type": "code",
   "execution_count": 11,
   "metadata": {},
   "outputs": [
    {
     "name": "stdout",
     "output_type": "stream",
     "text": [
      "10\n",
      "40\n",
      "50\n",
      "30\n",
      "[20, 30, 40]\n",
      "[10, 20, 30]\n",
      "[30, 40, 50]\n"
     ]
    }
   ],
   "source": [
    "my_list = [10, 20, 30, 40, 50]\n",
    "\n",
    "# Accessing by index\n",
    "print(my_list[0])  # Output: 10 (first element)\n",
    "print(my_list[3])  # Output: 40 (fourth element)\n",
    "\n",
    "# Negative indexing\n",
    "print(my_list[-1])  # Output: 50 (last element)\n",
    "print(my_list[-3])  # Output: 30 (third element from the end)\n",
    "\n",
    "# Slicing (start index is inclusive, end index is exclusive)\n",
    "print(my_list[1:4])  # Output: [20, 30, 40] (sublist from index 1 to 3)\n",
    "print(my_list[:3])   # Output: [10, 20, 30] (sublist from start to index 2)\n",
    "print(my_list[2:])   # Output: [30, 40, 50] (sublist from index 2 to end)\n"
   ]
  },
  {
   "cell_type": "code",
   "execution_count": 12,
   "metadata": {},
   "outputs": [
    {
     "name": "stdout",
     "output_type": "stream",
     "text": [
      "[10, 20, 100, 40, 50]\n",
      "[10, 200, 300, 40, 50]\n",
      "[10, 500, 50]\n"
     ]
    }
   ],
   "source": [
    "##Modifying Elements in a List\n",
    "my_list = [10, 20, 30, 40, 50]\n",
    "\n",
    "# Modifying a single element\n",
    "my_list[2] = 100\n",
    "print(my_list)  # Output: [10, 20, 100, 40, 50]\n",
    "\n",
    "# Modifying a range of elements using slicing\n",
    "my_list[1:3] = [200, 300]  # Replaces elements at index 1 and 2\n",
    "print(my_list)  # Output: [10, 200, 300, 40, 50]\n",
    "\n",
    "# Replacing multiple elements with fewer elements\n",
    "my_list[1:4] = [500]  # Replaces elements at index 1, 2, and 3 with 500\n",
    "print(my_list)  # Output: [10, 500, 50]\n"
   ]
  },
  {
   "cell_type": "markdown",
   "metadata": {},
   "source": [
    "Deleting Elements in a List\n",
    "You can remove elements from a list in several ways:\n",
    "\n",
    "Using del: Delete an element or a slice of elements.\n",
    "Using remove(): Remove the first occurrence of a specified value.\n",
    "Using pop(): Remove an element by its index and return it.\n",
    "Using clear(): Remove all elements from the list."
   ]
  },
  {
   "cell_type": "code",
   "execution_count": 13,
   "metadata": {},
   "outputs": [
    {
     "name": "stdout",
     "output_type": "stream",
     "text": [
      "[10, 30, 40, 50]\n",
      "[10, 50]\n"
     ]
    }
   ],
   "source": [
    "## Using del:\n",
    "my_list = [10, 20, 30, 40, 50]\n",
    "\n",
    "# Deleting a single element by index\n",
    "del my_list[1]\n",
    "print(my_list)  # Output: [10, 30, 40, 50]\n",
    "\n",
    "# Deleting a range of elements using slicing\n",
    "del my_list[1:3]\n",
    "print(my_list)  # Output: [10, 50]\n"
   ]
  },
  {
   "cell_type": "code",
   "execution_count": 14,
   "metadata": {},
   "outputs": [
    {
     "name": "stdout",
     "output_type": "stream",
     "text": [
      "[10, 20, 40, 30]\n"
     ]
    }
   ],
   "source": [
    "##Using remove():\n",
    "my_list = [10, 20, 30, 40, 30]\n",
    "\n",
    "# Removes the first occurrence of 30\n",
    "my_list.remove(30)\n",
    "print(my_list)  # Output: [10, 20, 40, 30]\n"
   ]
  },
  {
   "cell_type": "code",
   "execution_count": 15,
   "metadata": {},
   "outputs": [
    {
     "name": "stdout",
     "output_type": "stream",
     "text": [
      "30\n",
      "[10, 20, 40]\n",
      "40\n",
      "[10, 20]\n"
     ]
    }
   ],
   "source": [
    "##Using pop():\n",
    "my_list = [10, 20, 30, 40]\n",
    "\n",
    "# Removes and returns the element at index 2\n",
    "removed_element = my_list.pop(2)\n",
    "print(removed_element)  # Output: 30\n",
    "print(my_list)  # Output: [10, 20, 40]\n",
    "\n",
    "# Using pop() without an argument removes the last element\n",
    "last_element = my_list.pop()\n",
    "print(last_element)  # Output: 40\n",
    "print(my_list)  # Output: [10, 20]\n"
   ]
  },
  {
   "cell_type": "code",
   "execution_count": 16,
   "metadata": {},
   "outputs": [
    {
     "name": "stdout",
     "output_type": "stream",
     "text": [
      "[]\n"
     ]
    }
   ],
   "source": [
    "##Using clear():\n",
    "my_list = [10, 20, 30, 40]\n",
    "\n",
    "# Removes all elements from the list\n",
    "my_list.clear()\n",
    "print(my_list)  # Output: []\n"
   ]
  },
  {
   "cell_type": "markdown",
   "metadata": {},
   "source": [
    "4. Compare and contrast tuples and lists with examples.\n",
    "ANSWER:\n",
    "Both tuples and lists are used to store collections of items, but they have several differences in terms of mutability, syntax, and usage.\n"
   ]
  },
  {
   "cell_type": "code",
   "execution_count": 17,
   "metadata": {},
   "outputs": [],
   "source": [
    "##Syntax\n",
    "my_list = [1, 2, 3]   # List\n",
    "my_tuple = (1, 2, 3)  # Tuple\n"
   ]
  },
  {
   "cell_type": "code",
   "execution_count": 18,
   "metadata": {},
   "outputs": [
    {
     "name": "stdout",
     "output_type": "stream",
     "text": [
      "[10, 2, 3]\n"
     ]
    }
   ],
   "source": [
    "##Mutability\n",
    "my_list = [1, 2, 3]\n",
    "my_list[0] = 10  # Modifies the first element\n",
    "print(my_list)  # Output: [10, 2, 3]\n"
   ]
  },
  {
   "cell_type": "code",
   "execution_count": 20,
   "metadata": {},
   "outputs": [
    {
     "name": "stdout",
     "output_type": "stream",
     "text": [
      "[1, 2, 3, 4]\n"
     ]
    }
   ],
   "source": [
    "##Methods\n",
    "my_list = [1, 2, 3]\n",
    "my_list.append(4)  # Adds 4 to the list\n",
    "print(my_list)  # Output: [1, 2, 3, 4]\n"
   ]
  },
  {
   "cell_type": "code",
   "execution_count": 21,
   "metadata": {},
   "outputs": [
    {
     "name": "stdout",
     "output_type": "stream",
     "text": [
      "2\n",
      "2\n"
     ]
    }
   ],
   "source": [
    "my_tuple = (1, 2, 3, 2)\n",
    "print(my_tuple.count(2))  # Output: 2 (number of occurrences of 2)\n",
    "print(my_tuple.index(3))  # Output: 2 (index of the element 3)\n"
   ]
  },
  {
   "cell_type": "code",
   "execution_count": 22,
   "metadata": {},
   "outputs": [
    {
     "name": "stdout",
     "output_type": "stream",
     "text": [
      "List iteration time: 0.01575493812561035\n",
      "Tuple iteration time: 0.016644716262817383\n"
     ]
    }
   ],
   "source": [
    "##Performance\n",
    "import time\n",
    "\n",
    "# List iteration\n",
    "my_list = list(range(1000000))\n",
    "start_time = time.time()\n",
    "for item in my_list:\n",
    "    pass\n",
    "print(\"List iteration time:\", time.time() - start_time)\n",
    "\n",
    "# Tuple iteration\n",
    "my_tuple = tuple(range(1000000))\n",
    "start_time = time.time()\n",
    "for item in my_tuple:\n",
    "    pass\n",
    "print(\"Tuple iteration time:\", time.time() - start_time)\n"
   ]
  },
  {
   "cell_type": "code",
   "execution_count": 23,
   "metadata": {},
   "outputs": [
    {
     "name": "stdout",
     "output_type": "stream",
     "text": [
      "['apples', 'bananas', 'milk', 'bread']\n"
     ]
    }
   ],
   "source": [
    "##Usage\n",
    "shopping_list = ['apples', 'bananas', 'milk']\n",
    "shopping_list.append('bread')  # You can add more items\n",
    "print(shopping_list)  # Output: ['apples', 'bananas', 'milk', 'bread']\n"
   ]
  },
  {
   "cell_type": "code",
   "execution_count": 24,
   "metadata": {},
   "outputs": [
    {
     "name": "stdout",
     "output_type": "stream",
     "text": [
      "4\n"
     ]
    }
   ],
   "source": [
    "##Size and Memory\n",
    "my_list = [1, 2, 3]\n",
    "my_list.append(4)  # List grows\n",
    "print(len(my_list))  # Output: 4\n"
   ]
  },
  {
   "cell_type": "code",
   "execution_count": 25,
   "metadata": {},
   "outputs": [
    {
     "name": "stdout",
     "output_type": "stream",
     "text": [
      "value\n"
     ]
    }
   ],
   "source": [
    "##Hashability\n",
    "my_dict = {('a', 1): \"value\", ('b', 2): \"another value\"}\n",
    "print(my_dict[('a', 1)])  # Output: value\n"
   ]
  },
  {
   "cell_type": "markdown",
   "metadata": {},
   "source": [
    "5.Describe the key features of sets and provide examples of their use.\n",
    "ANSWER:A well-defined collection of Objects or items or data is known as a set. The objects or data are known as the element. For Example, the boys in a classroom can be put in one set, all integers from 1 to 100 can become one set, and all prime numbers can be called an Infinite set. The symbol used for sets is {…..}. Only the collection of data with specific characteristics is called a set.\n",
    "\n"
   ]
  },
  {
   "cell_type": "code",
   "execution_count": 26,
   "metadata": {},
   "outputs": [
    {
     "name": "stdout",
     "output_type": "stream",
     "text": [
      "{1, 2, 3, 4}\n"
     ]
    }
   ],
   "source": [
    "##Unordered Collection\n",
    "my_set = {3, 1, 4, 2}\n",
    "print(my_set)  # Output: {1, 2, 3, 4} (order is arbitrary)\n"
   ]
  },
  {
   "cell_type": "code",
   "execution_count": 27,
   "metadata": {},
   "outputs": [
    {
     "name": "stdout",
     "output_type": "stream",
     "text": [
      "{1, 2, 3}\n"
     ]
    }
   ],
   "source": [
    "##No Duplicate Elements\n",
    "my_set = {1, 2, 3, 1, 2}\n",
    "print(my_set)  # Output: {1, 2, 3} (duplicates removed)\n"
   ]
  },
  {
   "cell_type": "code",
   "execution_count": 28,
   "metadata": {},
   "outputs": [
    {
     "name": "stdout",
     "output_type": "stream",
     "text": [
      "{1, 2, 3, 4}\n",
      "{1, 3, 4}\n"
     ]
    }
   ],
   "source": [
    "##Mutable\n",
    "my_set = {1, 2, 3}\n",
    "my_set.add(4)   # Adds 4 to the set\n",
    "print(my_set)   # Output: {1, 2, 3, 4}\n",
    "\n",
    "my_set.remove(2)  # Removes 2 from the set\n",
    "print(my_set)     # Output: {1, 3, 4}\n",
    "\n",
    "my_set.discard(5)  # Removes 5 if it exists (no error if not found)\n"
   ]
  },
  {
   "cell_type": "code",
   "execution_count": 29,
   "metadata": {},
   "outputs": [
    {
     "name": "stdout",
     "output_type": "stream",
     "text": [
      "1\n",
      "2\n",
      "3\n"
     ]
    }
   ],
   "source": [
    "##Unindexed\n",
    "my_set = {1, 2, 3}\n",
    "for item in my_set:\n",
    "    print(item)\n",
    "# Output: Items printed in an arbitrary order\n"
   ]
  },
  {
   "cell_type": "code",
   "execution_count": 30,
   "metadata": {},
   "outputs": [
    {
     "name": "stdout",
     "output_type": "stream",
     "text": [
      "True\n",
      "False\n"
     ]
    }
   ],
   "source": [
    "##Fast Membership Testing\n",
    "my_set = {1, 2, 3, 4}\n",
    "print(3 in my_set)   # Output: True (fast membership test)\n",
    "print(5 in my_set)   # Output: False\n"
   ]
  },
  {
   "cell_type": "code",
   "execution_count": 31,
   "metadata": {},
   "outputs": [
    {
     "name": "stdout",
     "output_type": "stream",
     "text": [
      "{1, 2, 3, 4, 5}\n"
     ]
    }
   ],
   "source": [
    "##Set Operations\n",
    "##Union (| or union()):\n",
    "set1 = {1, 2, 3}\n",
    "set2 = {3, 4, 5}\n",
    "print(set1 | set2)  # Output: {1, 2, 3, 4, 5} (union)\n"
   ]
  },
  {
   "cell_type": "code",
   "execution_count": 32,
   "metadata": {},
   "outputs": [
    {
     "name": "stdout",
     "output_type": "stream",
     "text": [
      "{3}\n"
     ]
    }
   ],
   "source": [
    "## Intersection (& or intersection()):\n",
    "set1 = {1, 2, 3}\n",
    "set2 = {3, 4, 5}\n",
    "print(set1 & set2)  # Output: {3} (intersection)\n"
   ]
  },
  {
   "cell_type": "code",
   "execution_count": 33,
   "metadata": {},
   "outputs": [
    {
     "name": "stdout",
     "output_type": "stream",
     "text": [
      "{1, 2}\n"
     ]
    }
   ],
   "source": [
    "##Difference (- or difference()):\n",
    "set1 = {1, 2, 3}\n",
    "set2 = {3, 4, 5}\n",
    "print(set1 - set2)  # Output: {1, 2} (difference)\n"
   ]
  },
  {
   "cell_type": "code",
   "execution_count": 34,
   "metadata": {},
   "outputs": [
    {
     "name": "stdout",
     "output_type": "stream",
     "text": [
      "{1, 2, 4, 5}\n"
     ]
    }
   ],
   "source": [
    "##Symmetric Difference (^ or symmetric_difference()):\n",
    "set1 = {1, 2, 3}\n",
    "set2 = {3, 4, 5}\n",
    "print(set1 ^ set2)  # Output: {1, 2, 4, 5} (symmetric difference)\n"
   ]
  },
  {
   "cell_type": "code",
   "execution_count": 35,
   "metadata": {},
   "outputs": [
    {
     "name": "stdout",
     "output_type": "stream",
     "text": [
      "frozenset({1, 2, 3})\n"
     ]
    }
   ],
   "source": [
    "##Immutable Counterpart:\n",
    "my_frozenset = frozenset([1, 2, 3])\n",
    "print(my_frozenset)  # Output: frozenset({1, 2, 3})\n"
   ]
  },
  {
   "cell_type": "code",
   "execution_count": 36,
   "metadata": {},
   "outputs": [
    {
     "name": "stdout",
     "output_type": "stream",
     "text": [
      "{0, 1, 4, 9, 16}\n"
     ]
    }
   ],
   "source": [
    "##Set Comprehensions\n",
    "my_set = {x**2 for x in range(5)}\n",
    "print(my_set)  # Output: {0, 1, 4, 9, 16}\n"
   ]
  },
  {
   "cell_type": "markdown",
   "metadata": {},
   "source": [
    "6.Discuss the use cases of tuples and sets in python programming.\n",
    "ANSWER:\n",
    "Tuple: Tuple is a collection of Python objects much like a list. The sequence of values stored in a tuple can be of any type, and they are indexed by integers. Values of a tuple are syntactically separated by ‘commas’. Although it is not necessary, it is more common to define a tuple by closing the sequence of values in parentheses. The main characteristics of tuples are – \n",
    "\n",
    "Tuple is an immutable sequence in python.\n",
    "It cannot be changed or replaced since it is immutable.\n",
    "It is defined under parenthesis().\n",
    "Tuples can store any type of element."
   ]
  },
  {
   "cell_type": "code",
   "execution_count": 37,
   "metadata": {},
   "outputs": [
    {
     "name": "stdout",
     "output_type": "stream",
     "text": [
      "Initial empty Tuple: \n",
      "()\n",
      "\n",
      "Tuple using List: \n",
      "(1, 2, 4, 5, 6)\n",
      "\n",
      "Tuple with the use of function: \n",
      "('G', 'e', 'e', 'k', 's')\n"
     ]
    }
   ],
   "source": [
    "##Example\n",
    "# Creating an empty Tuple \n",
    "Tuple1 = () \n",
    "print(\"Initial empty Tuple: \") \n",
    "print (Tuple1) \n",
    "   \n",
    "# Creating a Tuple with \n",
    "# the use of list \n",
    "list1 = [1, 2, 4, 5, 6] \n",
    "print(\"\\nTuple using List: \") \n",
    "print(tuple(list1)) \n",
    "   \n",
    "#Creating a Tuple  \n",
    "#with the use of built-in function \n",
    "Tuple1 = tuple('Geeks') \n",
    "print(\"\\nTuple with the use of function: \") \n",
    "print(Tuple1)"
   ]
  },
  {
   "cell_type": "markdown",
   "metadata": {},
   "source": [
    "Set: In Python, Set is an unordered collection of data type that is iterable, mutable, and has no duplicate elements. The major advantage of using a set, as opposed to a list, is that it has a highly optimized method for checking whether a specific element is contained in the set. The main characteristics of set are –\n",
    "\n",
    "Sets are an unordered collection of elements or unintended collection of items In python.\n",
    "Here the order in which the elements are added into the set is not fixed, it can change frequently.\n",
    "It is defined under curly braces{}\n",
    "Sets are mutable, however, only immutable objects can be stored in it."
   ]
  },
  {
   "cell_type": "code",
   "execution_count": 38,
   "metadata": {},
   "outputs": [
    {
     "name": "stdout",
     "output_type": "stream",
     "text": [
      "Initial blank Set: \n",
      "set()\n",
      "\n",
      "Set with the use of an Object: \n",
      "{'e', 'k', 'G', 'o', 's', 'F', 'r'}\n",
      "\n",
      "Set with the use of List: \n",
      "{'Geeks', 'For'}\n"
     ]
    }
   ],
   "source": [
    "# Python3 program to demonstrate  \n",
    "# Set in Python \n",
    "   \n",
    "# Creating a Set \n",
    "set1 = set() \n",
    "print(\"Initial blank Set: \") \n",
    "print(set1) \n",
    "   \n",
    "# Creating a Set with \n",
    "# the use of Constructor \n",
    "# (Using object to Store String) \n",
    "String = 'GeeksForGeeks'\n",
    "set1 = set(String) \n",
    "print(\"\\nSet with the use of an Object: \" ) \n",
    "print(set1) \n",
    "   \n",
    "# Creating a Set with \n",
    "# the use of a List \n",
    "set1 = set([\"Geeks\", \"For\", \"Geeks\"]) \n",
    "print(\"\\nSet with the use of List: \") \n",
    "print(set1)"
   ]
  },
  {
   "cell_type": "markdown",
   "metadata": {},
   "source": [
    "7.Describe how to add,modify and delete items in a dictionary with examples.\n",
    "ANSWER:A Python dictionary is a data structure that stores key/value pairs to provide information about the structure. This article will teach you all you need to know about the concept of Python dictionary, including how they are constructed, how the elements are accessed, added, and removed from dictionaries, and how to use various built-in methods\n",
    "\n"
   ]
  },
  {
   "cell_type": "code",
   "execution_count": 39,
   "metadata": {},
   "outputs": [
    {
     "name": "stdout",
     "output_type": "stream",
     "text": [
      "{'name': 'Alice', 'age': 25, 'city': 'New York'}\n",
      "{'name': 'Alice', 'age': 25, 'city': 'New York', 'job': 'Engineer', 'hobby': 'Reading'}\n"
     ]
    }
   ],
   "source": [
    "##Adding Items to a Dictionary\n",
    "# Creating a dictionary\n",
    "my_dict = {'name': 'Alice', 'age': 25}\n",
    "\n",
    "# Adding a new key-value pair\n",
    "my_dict['city'] = 'New York'\n",
    "print(my_dict)\n",
    "# Output: {'name': 'Alice', 'age': 25, 'city': 'New York'}\n",
    "\n",
    "# Adding multiple new key-value pairs\n",
    "my_dict.update({'job': 'Engineer', 'hobby': 'Reading'})\n",
    "print(my_dict)\n",
    "# Output: {'name': 'Alice', 'age': 25, 'city': 'New York', 'job': 'Engineer', 'hobby': 'Reading'}\n"
   ]
  },
  {
   "cell_type": "code",
   "execution_count": 40,
   "metadata": {},
   "outputs": [
    {
     "name": "stdout",
     "output_type": "stream",
     "text": [
      "{'name': 'Alice', 'age': 26, 'city': 'New York'}\n",
      "{'name': 'Bob', 'age': 26, 'city': 'San Francisco'}\n"
     ]
    }
   ],
   "source": [
    "##Modifying Items in a Dictionary\n",
    "# Creating a dictionary\n",
    "my_dict = {'name': 'Alice', 'age': 25, 'city': 'New York'}\n",
    "\n",
    "# Modifying an existing value\n",
    "my_dict['age'] = 26\n",
    "print(my_dict)\n",
    "# Output: {'name': 'Alice', 'age': 26, 'city': 'New York'}\n",
    "\n",
    "# Modifying multiple values using update()\n",
    "my_dict.update({'name': 'Bob', 'city': 'San Francisco'})\n",
    "print(my_dict)\n",
    "# Output: {'name': 'Bob', 'age': 26, 'city': 'San Francisco'}\n"
   ]
  },
  {
   "cell_type": "code",
   "execution_count": 41,
   "metadata": {},
   "outputs": [
    {
     "name": "stdout",
     "output_type": "stream",
     "text": [
      "{'name': 'Alice', 'city': 'New York'}\n"
     ]
    }
   ],
   "source": [
    "##Deleting Items from a Dictionary\n",
    "##Using del\n",
    "my_dict = {'name': 'Alice', 'age': 25, 'city': 'New York'}\n",
    "\n",
    "# Deleting a key-value pair\n",
    "del my_dict['age']\n",
    "print(my_dict)\n",
    "# Output: {'name': 'Alice', 'city': 'New York'}\n"
   ]
  },
  {
   "cell_type": "code",
   "execution_count": 42,
   "metadata": {},
   "outputs": [
    {
     "name": "stdout",
     "output_type": "stream",
     "text": [
      "25\n",
      "{'name': 'Alice', 'city': 'New York'}\n"
     ]
    }
   ],
   "source": [
    "##Using pop()\n",
    "my_dict = {'name': 'Alice', 'age': 25, 'city': 'New York'}\n",
    "\n",
    "# Removing and returning a value using pop()\n",
    "age = my_dict.pop('age')\n",
    "print(age)      # Output: 25\n",
    "print(my_dict)  # Output: {'name': 'Alice', 'city': 'New York'}\n"
   ]
  },
  {
   "cell_type": "code",
   "execution_count": 43,
   "metadata": {},
   "outputs": [
    {
     "name": "stdout",
     "output_type": "stream",
     "text": [
      "('city', 'New York')\n",
      "{'name': 'Alice', 'age': 25}\n"
     ]
    }
   ],
   "source": [
    "##Using popitem()\n",
    "my_dict = {'name': 'Alice', 'age': 25, 'city': 'New York'}\n",
    "\n",
    "# Removing and returning the last inserted key-value pair\n",
    "last_item = my_dict.popitem()\n",
    "print(last_item)  # Output: ('city', 'New York')\n",
    "print(my_dict)    # Output: {'name': 'Alice', 'age': 25}\n"
   ]
  },
  {
   "cell_type": "code",
   "execution_count": 44,
   "metadata": {},
   "outputs": [
    {
     "name": "stdout",
     "output_type": "stream",
     "text": [
      "{}\n"
     ]
    }
   ],
   "source": [
    "##Using clear()\n",
    "my_dict = {'name': 'Alice', 'age': 25, 'city': 'New York'}\n",
    "\n",
    "# Removing all items\n",
    "my_dict.clear()\n",
    "print(my_dict)\n",
    "# Output: {}\n"
   ]
  },
  {
   "cell_type": "markdown",
   "metadata": {},
   "source": [
    "8.  Discuss the importance of dictionary keys being immutable and provide examples.\n",
    "ANSWER:In Python, dictionary keys must be immutable types. This requirement ensures that the key remains constant and can be used to reliably look up values in the dictionary. Immutable types cannot be modified after they are created, which makes them stable and hashable. Hashing is crucial for fast lookups, insertions, and deletions in a dictionary, as Python uses a hash table to store dictionary entries.\n",
    "\n",
    "1.Hashing for Performance:\n",
    "\n",
    "Python dictionaries use a hash table to associate keys with values. The hash function generates a unique hash code for each key, allowing for quick lookups. If keys were mutable, their values could change after being inserted into the dictionary, which would disrupt the hash table and make it impossible to retrieve the associated value.\n",
    "\n",
    "Immutable objects (like integers, strings, tuples) have a fixed hash value during their lifetime, so they can reliably serve as dictionary keys.\n",
    "\n",
    "2.Consistency of Lookups:\n",
    "\n",
    "Since dictionary keys are used to retrieve values, they must remain constant to ensure consistent lookups. If a mutable object (like a list) were used as a key and later modified, it would become \"invisible\" in the dictionary because its hash value would change, making it impossible to find the associated value.\n",
    "\n"
   ]
  },
  {
   "cell_type": "code",
   "execution_count": 45,
   "metadata": {},
   "outputs": [
    {
     "name": "stdout",
     "output_type": "stream",
     "text": [
      "one\n",
      "Alice\n",
      "tuple\n"
     ]
    }
   ],
   "source": [
    "##Immutable Keys\n",
    "# Immutable types as dictionary keys\n",
    "my_dict = {\n",
    "    1: 'one',        # Integer (immutable)\n",
    "    'name': 'Alice', # String (immutable)\n",
    "    (1, 2): 'tuple'  # Tuple (immutable)\n",
    "}\n",
    "print(my_dict[1])         # Output: one\n",
    "print(my_dict['name'])    # Output: Alice\n",
    "print(my_dict[(1, 2)])    # Output: tuple\n"
   ]
  }
 ],
 "metadata": {
  "kernelspec": {
   "display_name": "Python 3",
   "language": "python",
   "name": "python3"
  },
  "language_info": {
   "codemirror_mode": {
    "name": "ipython",
    "version": 3
   },
   "file_extension": ".py",
   "mimetype": "text/x-python",
   "name": "python",
   "nbconvert_exporter": "python",
   "pygments_lexer": "ipython3",
   "version": "3.12.4"
  }
 },
 "nbformat": 4,
 "nbformat_minor": 2
}
