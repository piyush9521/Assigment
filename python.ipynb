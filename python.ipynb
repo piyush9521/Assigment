{
 "cells": [
  {
   "cell_type": "markdown",
   "metadata": {},
   "source": [
    "1. Explain the key features of Python that make it a popular choice for programming.\n",
    "\n",
    "ANSWER: Python is a dynamic, high-level, free open source, and interpreted programming language. It supports object-oriented programming as well as procedural-oriented programming. In Python, we don’t need to declare the type of variable because it is a dynamically typed language. For example, x = 10 Here, x can be anything such as String, int, etc. In this article we will see what characteristics describe the python programming language\n",
    "\n",
    "Features in Python\n",
    "In this section we will see what are the features of Python programming language:\n",
    "\n",
    "1. Free and Open Source\n",
    "Python language is freely available at the official website and you can download it from the given download link below click on the Download Python keyword. Download Python Since it is open-source, this means that source code is also available to the public. So you can download it, use it as well as share it. \n",
    "\n",
    "2. Easy to code\n",
    "Python is a high-level programming language. Python is very easy to learn the language as compared to other languages like C, C#, Javascript, Java, etc. It is very easy to code in the Python language and anybody can learn Python basics in a few hours or days. It is also a developer-friendly language. \n",
    "\n",
    "3. Easy to Read\n",
    "As you will see, learning Python is quite simple. As was already established, Python’s syntax is really straightforward. The code block is defined by the indentations rather than by semicolons or brackets.\n",
    "\n",
    "4. Object-Oriented Language\n",
    "One of the key features of Python is Object-Oriented programming. Python supports object-oriented language and concepts of classes, object encapsulation, etc. \n",
    "\n",
    "5. GUI Programming Support\n",
    "Graphical User interfaces can be made using a module such as PyQt5, PyQt4, wxPython, or Tk in Python. PyQt5 is the most popular option for creating graphical apps with Python.\n",
    "\n",
    "6. High-Level Language\n",
    "Python is a high-level language. When we write programs in Python, we do not need to remember the system architecture, nor do we need to manage the memory.\n",
    "\n",
    "7. Large Community Support\n",
    "Python has gained popularity over the years. Our questions are constantly answered by the enormous StackOverflow community. These websites have already provided answers to many questions about Python, so Python users can consult them as needed.\n",
    "\n",
    "8. Easy to Debug\n",
    "Excellent information for mistake tracing. You will be able to quickly identify and correct the majority of your program’s issues once you understand how to interpret Python’s error traces. Simply by glancing at the code, you can determine what it is designed to perform.\n",
    "\n",
    "9. Python is a Portable language\n",
    "Python language is also a portable language. For example, if we have Python code for Windows and if we want to run this code on other platforms such as Linux, Unix, and Mac then we do not need to change it, we can run this code on any platform.\n",
    "\n",
    "10. Python is an Integrated language\n",
    "Python is also an Integrated language because we can easily integrate Python with other languages like C, C++, etc. \n",
    "\n",
    "11. Interpreted Language: \n",
    "Python is an Interpreted Language because Python code is executed line by line at a time. like other languages C, C++, Java, etc. there is no need to compile Python code this makes it easier to debug our code. The source code of Python is converted into an immediate form called bytecode.\n",
    "\n",
    "12. Large Standard Library \n",
    "Python has a large standard library that provides a rich set of modules and functions so you do not have to write your own code for every single thing. There are many libraries present in Python such as regular expressions, unit-testing, web browsers, etc.\n",
    "\n",
    "13. Dynamically Typed Language\n",
    "Python is a dynamically-typed language. That means the type (for example- int, double, long, etc.) for a variable is decided at run time not in advance because of this feature we don’t need to specify the type of variable.\n",
    "\n",
    "14. Frontend and backend development\n",
    "With a new project py script, you can run and write Python codes in HTML with the help of some simple tags <py-script>, <py-env>, etc. This will help you do frontend development work in Python like javascript. Backend is the strong forte of Python it’s extensively used for this work cause of its frameworks like Django and Flask.\n",
    "\n",
    "15. Allocating Memory Dynamically\n",
    "In Python, the variable data type does not need to be specified. The memory is automatically allocated to a variable at runtime when it is given a value. Developers do not need to write int y = 18 if the integer value 15 is set to y. You may just type y=18\n",
    "\n"
   ]
  },
  {
   "cell_type": "markdown",
   "metadata": {},
   "source": [
    "2 Describe the role of predefined keywords in Python and provide examples of how they are used in a\n",
    "program.\n",
    "\n",
    "ANSWER: In Python, predefined keywords (also known as reserved words) are special words that have a specific meaning and purpose within the language. These keywords cannot be used as variable names, function names, or identifiers because they are reserved for the Python interpreter to understand and execute the program correctly.\n",
    "\n",
    "These keywords represent the core functionalities of Python and are essential for the syntax of the language. They include control flow structures (like `if`, `else`, `for`, `while`), logical operators (like `and`, `or`, `not`), and data type-related keywords (like `True`, `False`, `None`), among others.\n",
    "\n",
    " Example of Predefined Keywords:\n",
    "\n",
    "1. Control flow keywords: \n",
    "    `if`, `else`, `elif`, `for`, `while`\n",
    "   \n",
    "2. Logical operators: \n",
    "    `and`, `or`, `not`\n",
    "   \n",
    "3. Function-related keywords:\n",
    "    `def`, `return`, `lambda`\n",
    "   \n",
    "4. Exception handling:\n",
    "    `try`, `except`, `finally`, `raise`\n",
    "   \n",
    "5. Miscellaneous: \n",
    "   `class`, `import`, `from`, `as`, `pass`, `break`, `continue`\n",
    "\n",
    " Example Program using Predefined Keywords:\n",
    "\n",
    "python\n",
    " Using if, else, and for keywords\n",
    "def check_even_odd(numbers):\n",
    "    even_numbers = []\n",
    "    odd_numbers = []\n",
    "    \n",
    "    for num in numbers:  # 'for' keyword is used to loop through the numbers list\n",
    "        if num % 2 == 0:  # 'if' keyword checks for an even number\n",
    "            even_numbers.append(num)  # 'append' method adds even number to list\n",
    "        else:  # 'else' is used for numbers that are not even\n",
    "            odd_numbers.append(num)   # adding odd numbers to the list\n",
    "    \n",
    "    return even_numbers, odd_numbers  # 'return' keyword returns two lists\n",
    "\n",
    " Calling the function\n",
    "numbers = [1, 2, 3, 4, 5, 6, 7, 8, 9, 10]\n",
    "evens, odds = check_even_odd(numbers)\n",
    "print(\"Even numbers:\", evens)\n",
    "print(\"Odd numbers:\", odds)\n",
    "\n",
    "\n",
    " Breakdown of Keywords:\n",
    "1. `for`: Used for looping through a list (`numbers`).\n",
    "2. `if`: Conditional statement that checks if a number is even.\n",
    "3. `else`: Provides an alternative block for numbers that are not even.\n",
    "4. `return`: Returns the two lists (`even_numbers` and `odd_numbers`).\n",
    "  \n",
    "In this example, the predefined keywords are crucial for controlling the flow of the program, ensuring proper iteration, and handling condition checks.\n",
    "\n",
    " Other Keyword Examples:\n",
    "\n",
    "`def`: Defines a function.\n",
    "`class`: Defines a class.\n",
    "`try` and `except`: Used for handling exceptions.\n",
    "\n",
    "List of All Keywords:\n",
    "You can check all predefined keywords in Python using the `keyword` module:\n",
    "\n",
    "import keyword\n",
    "print(keyword.kwlist)\n",
    "\n",
    "\n"
   ]
  },
  {
   "cell_type": "markdown",
   "metadata": {},
   "source": [
    "3. Compare and contrast mutable and immutable objects in Python with examples.\n",
    "\n",
    "ANSWER: In Python, objects can either be mutable or immutable based on whether their state (or data) can be changed after they are created.\n",
    "\n",
    "Mutable Objects:\n",
    "Mutable objects allow modification of their content without changing their identity (memory location). This means you can change their value, add or remove elements, or alter their content without needing to create a new object.\n",
    "Common Mutable Objects:\n",
    "Lists\n",
    "Dictionaries\n",
    "Sets\n",
    "User-defined objects \n",
    "Example of a Mutable Object (List)\n",
    "my_list = [1, 2, 3]\n",
    "my_list.append(4)  \n",
    "my_list[0] = 10   \n",
    "\n",
    "print(my_list)  \n",
    " Output: [10, 2, 3, 4]\n",
    " \n",
    "  Immutable Objects:\n",
    "Immutable objects, on the other hand, do not allow any modification to their content once they are created. If you try to change an immutable object, Python will create a new object instead of modifying the original one.\n",
    "\n",
    "Common Immutable Objects:\n",
    "Integers\n",
    "Floats\n",
    "Strings\n",
    "Tuples\n",
    "Frozen sets\n",
    "Example of an Immutable Object (String):\n",
    "my_string = \"Hello\"\n",
    "my_string += \" World\"  \n",
    "print(my_string)  \n",
    " Output: \"Hello World\"\n",
    "\n",
    "\n"
   ]
  },
  {
   "cell_type": "code",
   "execution_count": 9,
   "metadata": {},
   "outputs": [
    {
     "name": "stdout",
     "output_type": "stream",
     "text": [
      "Hello World\n"
     ]
    }
   ],
   "source": [
    "##Example of an Immutable Object (String):\n",
    "my_string = \"Hello\"\n",
    "my_string += \" World\"  \n",
    "print(my_string)  \n",
    " "
   ]
  },
  {
   "cell_type": "code",
   "execution_count": 8,
   "metadata": {},
   "outputs": [
    {
     "name": "stdout",
     "output_type": "stream",
     "text": [
      "[10, 2, 3, 4]\n"
     ]
    }
   ],
   "source": [
    "##Example of a Mutable Object (List)\n",
    "my_list = [1, 2, 3]\n",
    "my_list.append(4)  \n",
    "my_list[0] = 10   \n",
    "\n",
    "print(my_list)"
   ]
  },
  {
   "cell_type": "markdown",
   "metadata": {},
   "source": [
    "4. Discuss the different types of operators in Python and provide examples of how they are used.\n",
    "ANSWER:In Python, operators are special symbols or keywords that carry out operations on values and python variables. They serve as a basis for expressions, which are used to modify data and execute computations. Python contains several operators, each with its unique purpose.\n",
    "Types of Python Operators\n",
    "1.Arithmetic Operators\n",
    "2.Comparison (Relational) Operators\n",
    "3.Assignment Operators\n",
    "4.Logical Operators\n",
    "5.Bitwise Operators\n",
    "6.Membership Operators\n",
    "7.Identity Operators\n",
    "\n",
    "\n",
    "\n",
    "\n"
   ]
  },
  {
   "cell_type": "code",
   "execution_count": 1,
   "metadata": {},
   "outputs": [
    {
     "name": "stdout",
     "output_type": "stream",
     "text": [
      "a + b :  31\n",
      "a - b :  11\n",
      "a * b :  210\n",
      "a / b :  2.1\n",
      "a % b :  1\n",
      "a ** b :  16679880978201\n",
      "a // b :  2\n"
     ]
    }
   ],
   "source": [
    "###Example of Python Arithmetic Operators\n",
    "a = 21\n",
    "b = 10\n",
    "# Addition\n",
    "print (\"a + b : \", a + b)\n",
    "# Subtraction\n",
    "print (\"a - b : \", a - b)\n",
    "# Multiplication\n",
    "print (\"a * b : \", a * b)\n",
    "# Division\n",
    "print (\"a / b : \", a / b)\n",
    "# Modulus\n",
    "print (\"a % b : \", a % b)\n",
    "# Exponent\n",
    "print (\"a ** b : \", a ** b)\n",
    "# Floor Division\n",
    "print (\"a // b : \", a // b)\n"
   ]
  },
  {
   "cell_type": "code",
   "execution_count": 2,
   "metadata": {},
   "outputs": [
    {
     "name": "stdout",
     "output_type": "stream",
     "text": [
      "a == b :  False\n",
      "a != b :  True\n",
      "a > b :  False\n",
      "a < b :  True\n",
      "a >= b :  False\n",
      "a <= b :  True\n"
     ]
    }
   ],
   "source": [
    "##Example of Python Comparison Operators\n",
    "a = 4\n",
    "b = 5\n",
    "# Equal\n",
    "print (\"a == b : \", a == b)\n",
    "# Not Equal\n",
    "print (\"a != b : \", a != b)\n",
    "# Greater Than\n",
    "print (\"a > b : \", a > b)\n",
    "# Less Than\n",
    "print (\"a < b : \", a < b)\n",
    "# Greater Than or Equal to\n",
    "print (\"a >= b : \", a >= b)\n",
    "# Less Than or Equal to\n",
    "print (\"a <= b : \", a <= b)\n"
   ]
  },
  {
   "cell_type": "code",
   "execution_count": 3,
   "metadata": {},
   "outputs": [
    {
     "name": "stdout",
     "output_type": "stream",
     "text": [
      "a += 5 :  15\n",
      "a -= 5 :  10\n",
      "a *= 5 :  50\n",
      "a /= 5 :  10.0\n",
      "a %= 3 :  1.0\n",
      "a **= 2 :  1.0\n",
      "a //= 3 :  0.0\n"
     ]
    }
   ],
   "source": [
    "##Example of Python Assignment Operators\n",
    "# Assignment Operator\n",
    "a = 10\n",
    "# Addition Assignment\n",
    "a += 5\n",
    "print (\"a += 5 : \", a)\n",
    "# Subtraction Assignment\n",
    "a -= 5\n",
    "print (\"a -= 5 : \", a)\n",
    "# Multiplication Assignment\n",
    "a *= 5\n",
    "print (\"a *= 5 : \", a)\n",
    "# Division Assignment\n",
    "a /= 5\n",
    "print (\"a /= 5 : \",a)\n",
    "# Remainder Assignment\n",
    "a %= 3\n",
    "print (\"a %= 3 : \", a)\n",
    "# Exponent Assignment\n",
    "a **= 2\n",
    "print (\"a **= 2 : \", a)\n",
    "# Floor Division Assignment\n",
    "a //= 3\n",
    "print (\"a //= 3 : \", a)"
   ]
  },
  {
   "cell_type": "code",
   "execution_count": 4,
   "metadata": {},
   "outputs": [
    {
     "name": "stdout",
     "output_type": "stream",
     "text": [
      "a & b :  12\n",
      "a | b :  61\n",
      "a ^ b :  49\n",
      "~a :  -61\n",
      "a << 2 :  240\n",
      "a >> 2 :  15\n"
     ]
    }
   ],
   "source": [
    "##Example of Python Bitwise Operators\n",
    "a = 60 # 60 = 0011 1100\n",
    "b = 13 # 13 = 0000 1101\n",
    "# Binary AND\n",
    "c = a & b # 12 = 0000 1100\n",
    "print (\"a & b : \", c)\n",
    "# Binary OR\n",
    "c = a | b # 61 = 0011 1101\n",
    "print (\"a | b : \", c)\n",
    "# Binary XOR\n",
    "c = a ^ b # 49 = 0011 0001\n",
    "print (\"a ^ b : \", c)\n",
    "# Binary Ones Complement\n",
    "c = ~a; # -61 = 1100 0011\n",
    "print (\"~a : \", c)\n",
    "# Binary Left Shift\n",
    "c = a << 2; # 240 = 1111 0000\n",
    "print (\"a << 2 : \", c)\n",
    "# Binary Right Shift\n",
    "c = a >> 2; # 15 = 0000 1111\n",
    "print (\"a >> 2 : \", c)"
   ]
  },
  {
   "cell_type": "code",
   "execution_count": 5,
   "metadata": {},
   "outputs": [
    {
     "name": "stdout",
     "output_type": "stream",
     "text": [
      "Both x and y are within the specified range\n"
     ]
    }
   ],
   "source": [
    "##Example of Python Logical Operators\n",
    "x = 5\n",
    "y = 10\n",
    "if x > 3 and y < 15:\n",
    "  print(\"Both x and y are within the specified range\")"
   ]
  },
  {
   "cell_type": "code",
   "execution_count": 6,
   "metadata": {},
   "outputs": [
    {
     "name": "stdout",
     "output_type": "stream",
     "text": [
      "Yes, banana is a fruit!\n"
     ]
    }
   ],
   "source": [
    "##Example of Python Membership Operators\n",
    "fruits = [\"apple\", \"banana\", \"cherry\"]\n",
    "if \"banana\" in fruits:\n",
    "    print(\"Yes, banana is a fruit!\")\n",
    "else:\n",
    "    print(\"No, banana is not a fruit!\")"
   ]
  },
  {
   "cell_type": "code",
   "execution_count": 7,
   "metadata": {},
   "outputs": [
    {
     "name": "stdout",
     "output_type": "stream",
     "text": [
      "x and y are not the same object\n"
     ]
    }
   ],
   "source": [
    "##Example of Python Identity Operators\n",
    "x = 10\n",
    "y = 5\n",
    "if x is y:\n",
    "    print(\"x and y are the same object\")\n",
    "else:\n",
    "    print(\"x and y are not the same object\")"
   ]
  },
  {
   "cell_type": "markdown",
   "metadata": {},
   "source": [
    "5. Explain the concept of type casting in python with examples.\n",
    "ANSWER: Type Casting is the method to convert the Python variable datatype into a certain data type in order to perform the required operation by users. In this article, we will see the various techniques for typecasting. There can be two types of Type Casting in Python:\n",
    "\n",
    "1.Python Implicit Type Conversion\n",
    "2.Python Explicit Type Conversion"
   ]
  },
  {
   "cell_type": "code",
   "execution_count": 10,
   "metadata": {},
   "outputs": [
    {
     "name": "stdout",
     "output_type": "stream",
     "text": [
      "<class 'int'>\n",
      "<class 'float'>\n",
      "10.0\n",
      "<class 'float'>\n",
      "21.0\n",
      "<class 'float'>\n"
     ]
    }
   ],
   "source": [
    "##Implicit Type Conversion in Python\n",
    "# Python program to demonstrate \n",
    "# implicit type Casting \n",
    "\n",
    "# Python automatically converts \n",
    "# a to int \n",
    "a = 7\n",
    "print(type(a)) \n",
    "\n",
    "# Python automatically converts \n",
    "# b to float \n",
    "b = 3.0\n",
    "print(type(b)) \n",
    "\n",
    "# Python automatically converts \n",
    "# c to float as it is a float addition \n",
    "c = a + b \n",
    "print(c) \n",
    "print(type(c))\n",
    "\n",
    "# Python automatically converts \n",
    "# d to float as it is a float multiplication\n",
    "d = a * b\n",
    "print(d)\n",
    "print(type(d))\n"
   ]
  },
  {
   "cell_type": "markdown",
   "metadata": {},
   "source": [
    "Examples of Type Casting in Python\n",
    "Mainly type casting can be done with these data type functions:\n",
    "\n",
    "Int(): Python Int() function take float or string as an argument and returns int type object.\n",
    "float(): Python float() function take int or string as an argument and return float type object.\n",
    "str(): Python str() function takes float or int as an argument and returns string type object.\n"
   ]
  },
  {
   "cell_type": "code",
   "execution_count": 11,
   "metadata": {},
   "outputs": [
    {
     "name": "stdout",
     "output_type": "stream",
     "text": [
      "5.0\n",
      "<class 'float'>\n"
     ]
    }
   ],
   "source": [
    "##Python Convert Int to Float\n",
    "# Python program to demonstrate \n",
    "# type Casting \n",
    "\n",
    "# int variable\n",
    "a = 5\n",
    "\n",
    "# typecast to float\n",
    "n = float(a)\n",
    "\n",
    "print(n)\n",
    "print(type(n))\n"
   ]
  },
  {
   "cell_type": "code",
   "execution_count": 12,
   "metadata": {},
   "outputs": [
    {
     "name": "stdout",
     "output_type": "stream",
     "text": [
      "5\n",
      "<class 'int'>\n"
     ]
    }
   ],
   "source": [
    "##Python Convert Float to Int\n",
    "# Python program to demonstrate \n",
    "# type Casting \n",
    "\n",
    "# int variable\n",
    "a = 5.9\n",
    "\n",
    "# typecast to int\n",
    "n = int(a)\n",
    "\n",
    "print(n)\n",
    "print(type(n))\n"
   ]
  },
  {
   "cell_type": "code",
   "execution_count": 13,
   "metadata": {},
   "outputs": [
    {
     "name": "stdout",
     "output_type": "stream",
     "text": [
      "5\n",
      "<class 'str'>\n"
     ]
    }
   ],
   "source": [
    "##Python Convert int to String\n",
    "# Python program to demonstrate \n",
    "# type Casting \n",
    "\n",
    "# int variable\n",
    "a = 5\n",
    "\n",
    "# typecast to str\n",
    "n = str(a)\n",
    "\n",
    "print(n)\n",
    "print(type(n))\n"
   ]
  },
  {
   "cell_type": "code",
   "execution_count": 14,
   "metadata": {},
   "outputs": [
    {
     "name": "stdout",
     "output_type": "stream",
     "text": [
      "5.9\n",
      "<class 'float'>\n"
     ]
    }
   ],
   "source": [
    "##Python Convert String to float\n",
    "# Python program to demonstrate \n",
    "# type Casting \n",
    "\n",
    "# string variable\n",
    "a = \"5.9\"\n",
    "\n",
    "# typecast to float\n",
    "n = float(a)\n",
    "\n",
    "print(n)\n",
    "print(type(n))\n"
   ]
  },
  {
   "cell_type": "markdown",
   "metadata": {},
   "source": [
    "6. How do conditional statements work in python ?illustrate with exmaples.\n",
    "ANSWER:Conditional Statements are statements in Python that provide a choice for the control flow based on a condition. It means that the control flow of the Python program will be decided based on the outcome of the condition. Now let us see how Conditional Statements are implemented in Python\n",
    "1. If Conditional Statement in Python\n",
    "If the simple code of block is to be performed if the condition holds then the if statement is used. Here the condition mentioned holds then the code of the block runs otherwise not."
   ]
  },
  {
   "cell_type": "code",
   "execution_count": 16,
   "metadata": {},
   "outputs": [
    {
     "name": "stdout",
     "output_type": "stream",
     "text": [
      "10 greater than 5\n",
      "Program ended\n"
     ]
    }
   ],
   "source": [
    "# if statement example\n",
    "if 10 > 5:\n",
    "    print(\"10 greater than 5\")\n",
    "\n",
    "print(\"Program ended\")\n"
   ]
  },
  {
   "cell_type": "markdown",
   "metadata": {},
   "source": [
    "2. If else Conditional Statements in Python\n",
    "In a conditional if Statement the additional block of code is merged as an else statement which is performed when if condition is false. \n"
   ]
  },
  {
   "cell_type": "code",
   "execution_count": 17,
   "metadata": {},
   "outputs": [
    {
     "name": "stdout",
     "output_type": "stream",
     "text": [
      "No\n"
     ]
    }
   ],
   "source": [
    "# if..else statement example\n",
    "x = 3\n",
    "if x == 4:\n",
    "    print(\"Yes\")\n",
    "else:\n",
    "    print(\"No\")\n"
   ]
  },
  {
   "cell_type": "markdown",
   "metadata": {},
   "source": [
    "3. Nested if..else Conditional Statements in Python\n",
    "Nested if..else means an if-else statement inside another if statement. Or in simple words first, there is an outer if statement, and inside it another if – else statement is present and such type of statement is known as nested if statement. We can use one if or else if statement inside another if or else if statements."
   ]
  },
  {
   "cell_type": "code",
   "execution_count": 18,
   "metadata": {},
   "outputs": [
    {
     "name": "stdout",
     "output_type": "stream",
     "text": [
      "letter is A\n"
     ]
    }
   ],
   "source": [
    "# if..else chain statement\n",
    "letter = \"A\"\n",
    "\n",
    "if letter == \"B\":\n",
    "    print(\"letter is B\")\n",
    "\n",
    "else:\n",
    "\n",
    "    if letter == \"C\":\n",
    "        print(\"letter is C\")\n",
    "\n",
    "    else:\n",
    "\n",
    "        if letter == \"A\":\n",
    "            print(\"letter is A\")\n",
    "\n",
    "        else:\n",
    "            print(\"letter isn't A, B and C\")\n"
   ]
  },
  {
   "cell_type": "markdown",
   "metadata": {},
   "source": [
    "4. If-elif-else Conditional Statements in Python\n",
    "The if statements are executed from the top down. As soon as one of the conditions controlling the if is true, the statement associated with that if is executed, and the rest of the ladder is bypassed. If none of the conditions is true, then the final “else” statement will be executed."
   ]
  },
  {
   "cell_type": "code",
   "execution_count": 19,
   "metadata": {},
   "outputs": [
    {
     "name": "stdout",
     "output_type": "stream",
     "text": [
      "letter is A\n"
     ]
    }
   ],
   "source": [
    "# if-elif statement example\n",
    "letter = \"A\"\n",
    "\n",
    "if letter == \"B\":\n",
    "    print(\"letter is B\")\n",
    "\n",
    "elif letter == \"C\":\n",
    "    print(\"letter is C\")\n",
    "\n",
    "elif letter == \"A\":\n",
    "    print(\"letter is A\")\n",
    "\n",
    "else:\n",
    "    print(\"letter isn't A, B or C\")\n"
   ]
  },
  {
   "cell_type": "markdown",
   "metadata": {},
   "source": [
    "5. Ternary Expression Conditional Statements in Python\n",
    "The Python ternary Expression determines if a condition is true or false and then returns the appropriate value in accordance with the result. The ternary Expression is useful in cases where we need to assign a value to a variable based on a simple condition, and we want to keep our code more concise — all in just one line of code."
   ]
  },
  {
   "cell_type": "markdown",
   "metadata": {},
   "source": [
    "7.Describe the different types of loops in python and their use cases with examples.\n",
    "ANSWER:\n",
    "Python programming language provides two types of Python loopshecking time. In this article, we will look at Python loops and understand their working with the help of examp – For loop and While loop to handle looping requirements. Loops in Python provides three ways for executing the loops\n",
    "While Loop in Python\n",
    "In Python, a while loop is used to execute a block of statements repeatedly until a given condition is satisfied. When the condition becomes false, the line immediately after the loop in the program is executed."
   ]
  },
  {
   "cell_type": "code",
   "execution_count": 1,
   "metadata": {},
   "outputs": [
    {
     "name": "stdout",
     "output_type": "stream",
     "text": [
      "Hello Geek\n",
      "Hello Geek\n",
      "Hello Geek\n"
     ]
    }
   ],
   "source": [
    "##Example of Python While Loop\n",
    "count = 0\n",
    "while (count < 3):\n",
    "    count = count + 1\n",
    "    print(\"Hello Geek\")\n"
   ]
  },
  {
   "cell_type": "code",
   "execution_count": 2,
   "metadata": {},
   "outputs": [
    {
     "name": "stdout",
     "output_type": "stream",
     "text": [
      "Hello Geek\n",
      "Hello Geek\n",
      "Hello Geek\n",
      "In Else Block\n"
     ]
    }
   ],
   "source": [
    "##Examples of While Loop with else statement:\n",
    "count = 0\n",
    "while (count < 3):\n",
    "    count = count + 1\n",
    "    print(\"Hello Geek\")\n",
    "else:\n",
    "    print(\"In Else Block\")\n"
   ]
  },
  {
   "cell_type": "markdown",
   "metadata": {},
   "source": [
    "For Loop in Python\n",
    "For loops are used for sequential traversal. For example: traversing a list or string or array etc. In Python, there is “for in” loop which is similar to foreach loop in other languages. Let us learn how to use for loops in Python for sequential traversals with examples."
   ]
  },
  {
   "cell_type": "code",
   "execution_count": 3,
   "metadata": {},
   "outputs": [
    {
     "name": "stdout",
     "output_type": "stream",
     "text": [
      "0\n",
      "1\n",
      "2\n",
      "3\n"
     ]
    }
   ],
   "source": [
    "n = 4\n",
    "for i in range(0, n):\n",
    "    print(i)\n"
   ]
  },
  {
   "cell_type": "code",
   "execution_count": 4,
   "metadata": {},
   "outputs": [
    {
     "name": "stdout",
     "output_type": "stream",
     "text": [
      "List Iteration\n",
      "geeks\n",
      "for\n",
      "geeks\n",
      "\n",
      "Tuple Iteration\n",
      "geeks\n",
      "for\n",
      "geeks\n",
      "\n",
      "String Iteration\n",
      "G\n",
      "e\n",
      "e\n",
      "k\n",
      "s\n",
      "\n",
      "Dictionary Iteration\n",
      "xyz  123\n",
      "abc  345\n",
      "\n",
      "Set Iteration\n",
      "1\n",
      "2\n",
      "3\n",
      "4\n",
      "5\n",
      "6\n"
     ]
    }
   ],
   "source": [
    "###Example with List, Tuple, String, and Dictionary Iteration Using for Loops in Python\n",
    "print(\"List Iteration\")\n",
    "l = [\"geeks\", \"for\", \"geeks\"]\n",
    "for i in l:\n",
    "    print(i)\n",
    "print(\"\\nTuple Iteration\")\n",
    "t = (\"geeks\", \"for\", \"geeks\")\n",
    "for i in t:\n",
    "    print(i)\n",
    "print(\"\\nString Iteration\")\n",
    "s = \"Geeks\"\n",
    "for i in s:\n",
    "    print(i)\n",
    "print(\"\\nDictionary Iteration\")\n",
    "d = dict()\n",
    "d['xyz'] = 123\n",
    "d['abc'] = 345\n",
    "for i in d:\n",
    "    print(\"%s  %d\" % (i, d[i]))\n",
    "print(\"\\nSet Iteration\")\n",
    "set1 = {1, 2, 3, 4, 5, 6}\n",
    "for i in set1:\n",
    "    print(i),\n"
   ]
  }
 ],
 "metadata": {
  "kernelspec": {
   "display_name": "Python 3",
   "language": "python",
   "name": "python3"
  },
  "language_info": {
   "codemirror_mode": {
    "name": "ipython",
    "version": 3
   },
   "file_extension": ".py",
   "mimetype": "text/x-python",
   "name": "python",
   "nbconvert_exporter": "python",
   "pygments_lexer": "ipython3",
   "version": "3.12.4"
  }
 },
 "nbformat": 4,
 "nbformat_minor": 2
}
